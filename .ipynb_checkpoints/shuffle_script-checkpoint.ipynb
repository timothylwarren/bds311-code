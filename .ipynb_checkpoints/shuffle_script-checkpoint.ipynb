{
 "cells": [
  {
   "cell_type": "markdown",
   "metadata": {},
   "source": [
    "Make random weekly partners for homework assignments"
   ]
  },
  {
   "cell_type": "code",
   "execution_count": 21,
   "metadata": {},
   "outputs": [
    {
     "name": "stdout",
     "output_type": "stream",
     "text": [
      "input names are  Anton Sophie Michael Skyler Kei Alexandre Riely\n",
      "shuffled_names are  Alexandre Sophie Skyler Kei Michael Anton Riely\n"
     ]
    }
   ],
   "source": [
    "import numpy as np\n",
    "\n",
    "#modify this list with current set of students\n",
    "names_to_shuffle=['Anton','Sophie','Michael','Skyler','Kei','Alexandre','Riely']\n",
    "orig_names=names_to_shuffle.copy()\n",
    "print('input names are ', *orig_names)\n",
    "np.random.shuffle(names_to_shuffle)\n",
    "print('shuffled_names are ', *names_to_shuffle)"
   ]
  },
  {
   "cell_type": "code",
   "execution_count": null,
   "metadata": {},
   "outputs": [],
   "source": []
  }
 ],
 "metadata": {
  "kernelspec": {
   "display_name": "Python 3",
   "language": "python",
   "name": "python3"
  },
  "language_info": {
   "codemirror_mode": {
    "name": "ipython",
    "version": 3
   },
   "file_extension": ".py",
   "mimetype": "text/x-python",
   "name": "python",
   "nbconvert_exporter": "python",
   "pygments_lexer": "ipython3",
   "version": "3.7.1"
  }
 },
 "nbformat": 4,
 "nbformat_minor": 2
}
